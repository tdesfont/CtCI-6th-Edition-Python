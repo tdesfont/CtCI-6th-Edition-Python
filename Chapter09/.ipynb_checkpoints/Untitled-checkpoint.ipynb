{
 "cells": [
  {
   "cell_type": "code",
   "execution_count": 11,
   "metadata": {},
   "outputs": [],
   "source": [
    "class SocialNetwork:\n",
    "\n",
    "    def __init__(self):\n",
    "        self.graph = {}\n",
    "\n",
    "    def add_link(self, a, b):\n",
    "        if a not in self.graph:\n",
    "            self.graph[a] = []\n",
    "        else:\n",
    "            self.graph[a].append(b)\n",
    "\n",
    "    def connect(self, a, b):\n",
    "        self.add_link(a, b)\n",
    "        self.add_link(b, a)"
   ]
  },
  {
   "cell_type": "code",
   "execution_count": 12,
   "metadata": {},
   "outputs": [],
   "source": [
    "socialNet = SocialNetwork()\n",
    "links = [(0, 1), (0, 2), (1, 2), (1, 4), (2, 3), \n",
    "         (4, 5), (5, 6), (5, 7), (6, 7)]\n",
    "for link in links:\n",
    "    socialNet.connect(*link)"
   ]
  },
  {
   "cell_type": "code",
   "execution_count": 13,
   "metadata": {},
   "outputs": [],
   "source": [
    "class BFSData:\n",
    "    \n",
    "    def __init__(self, root):\n",
    "        self.toVisit = []\n",
    "        self.visited = {}\n",
    "        sourcePath = PathNode(root, None)\n",
    "        self.toVisit.append(sourcePath)\n",
    "        visited.put(root.id, sourcePath)\n",
    "        \n",
    "    def isFinished(self):\n",
    "        return len(self.toVisit)==0"
   ]
  },
  {
   "cell_type": "code",
   "execution_count": 14,
   "metadata": {},
   "outputs": [],
   "source": [
    "class PathNode:\n",
    "    \n",
    "    def __init__(self, p, previous):\n",
    "        self.person = p\n",
    "        self.previousNode = previous\n",
    "        \n",
    "    def getPerson(self):\n",
    "        return self.person\n",
    "    \n",
    "    def collapse(self, startsWithRoot):\n",
    "        path = []\n",
    "        node = self\n",
    "        while node:\n",
    "            if startsWithRoot:\n",
    "                path.append(node.person)\n",
    "            else:\n",
    "                path.insert(0, node.person)\n",
    "            node = node.previousNode\n",
    "        return path"
   ]
  },
  {
   "cell_type": "code",
   "execution_count": null,
   "metadata": {},
   "outputs": [],
   "source": [
    "def mergePaths(bfs1, bfs2, connection):\n",
    "    end1 = bfs1.visited[connection]\n",
    "    end2 = bfs2.visited[connection]\n",
    "    pathOne = end1.collapse(False)\n",
    "    pathTwo = end2.collapse(True)\n",
    "    pathTwo.removeFirst()\n",
    "    pathTwo.addAll(pathTwo)\n",
    "    return pathOne\n",
    "    "
   ]
  }
 ],
 "metadata": {
  "kernelspec": {
   "display_name": "Python 3",
   "language": "python",
   "name": "python3"
  },
  "language_info": {
   "codemirror_mode": {
    "name": "ipython",
    "version": 3
   },
   "file_extension": ".py",
   "mimetype": "text/x-python",
   "name": "python",
   "nbconvert_exporter": "python",
   "pygments_lexer": "ipython3",
   "version": "3.6.8"
  }
 },
 "nbformat": 4,
 "nbformat_minor": 2
}
